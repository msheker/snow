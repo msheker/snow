{
 "cells": [
  {
   "cell_type": "code",
   "execution_count": 3,
   "metadata": {
    "collapsed": false
   },
   "outputs": [],
   "source": [
    "import pandas as pd\n",
    "import numpy as np\n",
    "import numpy.linalg as la\n",
    "\n",
    "import matplotlib.pyplot as plt\n",
    "from bokeh.plotting import figure, show, output_file\n",
    "from bokeh.layouts import gridplot, Row\n",
    "from bokeh.io import hplot\n",
    "\n",
    "d3600 = pd.read_csv(\"FullResolutionData/64503600.csv\")\n",
    "d6420 = pd.read_csv(\"FullResolutionData/64506420.csv\")\n",
    "d8570 = pd.read_csv(\"FullResolutionData/64508570.csv\")\n",
    "d6320 = pd.read_csv(\"FullResolutionData/300234063536320.csv\")\n",
    "d4340 = pd.read_csv(\"FullResolutionData/300234063984340.csv\")"
   ]
  },
  {
   "cell_type": "code",
   "execution_count": 50,
   "metadata": {
    "collapsed": false
   },
   "outputs": [
    {
     "data": {
      "text/plain": [
       "<bokeh.models.renderers.GlyphRenderer at 0x182fb682198>"
      ]
     },
     "execution_count": 50,
     "metadata": {},
     "output_type": "execute_result"
    }
   ],
   "source": [
    "f0 = figure()\n",
    "f0.scatter(d3600[\"DOY\"], d3600[\"BP\"], color = \"blue\",size = 2)\n",
    "f0.scatter(d6420[\"DOY\"], d6420[\"BP\"], color = \"red\", size = 2)\n",
    "f0.scatter(d8570[\"DOY\"], d8570[\"BP\"], color = \"green\", size = 2)\n",
    "#f0.scatter(d6320[\"DOY\"],d6320[\"BP\"], color = \"yellow\")\n",
    "#f0.scatter(d4340[\"DOY\"],d4340[\"BP\"], color = \"cyan\")"
   ]
  },
  {
   "cell_type": "code",
   "execution_count": 11,
   "metadata": {
    "collapsed": false
   },
   "outputs": [],
   "source": [
    "data = d3600.append(d6420)\n",
    "data = data.append(d8570)\n",
    "data = data.sort_values(by=\"DOY\")\n",
    "\n",
    "z = np.polyfit(data[\"DOY\"],data[\"BP\"],1)\n",
    "p = np.poly1d(z)\n",
    "pnts = [p(x) for x in data[\"DOY\"]]\n",
    "\n",
    "f0.line(data[\"DOY\"],pnts, line_width = 5)\n",
    "show(f0)"
   ]
  },
  {
   "cell_type": "code",
   "execution_count": 30,
   "metadata": {
    "collapsed": false
   },
   "outputs": [],
   "source": [
    "data = d3600.append(d6420)\n",
    "data = data.append(d8570)\n",
    "data = data.sort_values(by=\"DOY\")\n",
    "\n",
    "z = np.polyfit(data[\"DOY\"],data[\"BP\"],3)\n",
    "p = np.poly1d(z)\n",
    "pnts = [p(x) for x in np.unique(data[\"DOY\"])]\n",
    "sorted(pnts)\n",
    "\n",
    "f0.line(np.unique(data[\"DOY\"]), pnts, line_width = 5)\n",
    "show(f0)"
   ]
  },
  {
   "cell_type": "code",
   "execution_count": 38,
   "metadata": {
    "collapsed": false
   },
   "outputs": [],
   "source": [
    "data = d3600.append(d6420)\n",
    "data = data.append(d8570)\n",
    "data = data.sort_values(by=\"DOY\")\n",
    "\n",
    "del data[\"BuoyID\"]\n",
    "del data[\"Year\"]\n",
    "del data[\"Hour\"]\n",
    "del data[\"Min\"]\n",
    "del data[\"POS_DOY\"]\n",
    "del data[\"Lat\"]\n",
    "del data[\"Lon\"]\n",
    "del data[\"Ts\"]\n",
    "\n",
    "z = np.polyfit(data[\"DOY\"],data[\"BP\"],3)\n",
    "p = np.poly1d(z)\n",
    "pnts = [p(x) for x in np.unique(data[\"DOY\"])]\n",
    "\n",
    "f0.line(np.unique(data[\"DOY\"]), pnts, line_width = 5)\n",
    "show(f0)"
   ]
  },
  {
   "cell_type": "code",
   "execution_count": 51,
   "metadata": {
    "collapsed": true
   },
   "outputs": [],
   "source": [
    "z = np.polyfit(data[\"DOY\"],data[\"BP\"],5)\n",
    "p = np.poly1d(z)\n",
    "pnts = [p(x) for x in np.unique(data[\"DOY\"])]\n",
    "\n",
    "f0.line(np.unique(data[\"DOY\"]), pnts, line_width = 5)\n",
    "show(f0)"
   ]
  },
  {
   "cell_type": "code",
   "execution_count": 49,
   "metadata": {
    "collapsed": true
   },
   "outputs": [],
   "source": [
    "z = np.polyfit(data[\"DOY\"],data[\"BP\"],11)\n",
    "p = np.poly1d(z)\n",
    "pnts = [p(x) for x in np.unique(data[\"DOY\"])]\n",
    "\n",
    "f0.line(np.unique(data[\"DOY\"]), pnts, line_width = 5)\n",
    "show(f0)"
   ]
  },
  {
   "cell_type": "code",
   "execution_count": null,
   "metadata": {
    "collapsed": true
   },
   "outputs": [],
   "source": [
    "z = np.polyfit(data[\"DOY\"],data[\"BP\"],13)\n",
    "p = np.poly1d(z)\n",
    "pnts = [p(x) for x in np.unique(data[\"DOY\"])]\n",
    "\n",
    "f0.line(np.unique(data[\"DOY\"]), pnts, line_width = 5)\n",
    "show(f0)"
   ]
  }
 ],
 "metadata": {
  "kernelspec": {
   "display_name": "Python [Root]",
   "language": "python",
   "name": "Python [Root]"
  },
  "language_info": {
   "codemirror_mode": {
    "name": "ipython",
    "version": 3
   },
   "file_extension": ".py",
   "mimetype": "text/x-python",
   "name": "python",
   "nbconvert_exporter": "python",
   "pygments_lexer": "ipython3",
   "version": "3.5.2"
  }
 },
 "nbformat": 4,
 "nbformat_minor": 0
}
